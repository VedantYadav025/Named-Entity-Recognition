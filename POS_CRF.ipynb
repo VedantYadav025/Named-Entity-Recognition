{
 "cells": [
  {
   "cell_type": "code",
   "execution_count": 1,
   "metadata": {
    "colab": {
     "base_uri": "https://localhost:8080/"
    },
    "id": "BJZY8Cf_v_ky",
    "outputId": "0295dbf2-ee53-4f65-e46e-39ee48ff113f"
   },
   "outputs": [
    {
     "name": "stdout",
     "output_type": "stream",
     "text": [
      "Requirement already satisfied: sklearn_crfsuite in /home/oddity/anaconda3/lib/python3.12/site-packages (0.5.0)\n",
      "Requirement already satisfied: python-crfsuite>=0.9.7 in /home/oddity/anaconda3/lib/python3.12/site-packages (from sklearn_crfsuite) (0.9.10)\n",
      "Requirement already satisfied: scikit-learn>=0.24.0 in /home/oddity/anaconda3/lib/python3.12/site-packages (from sklearn_crfsuite) (1.4.2)\n",
      "Requirement already satisfied: tabulate>=0.4.2 in /home/oddity/anaconda3/lib/python3.12/site-packages (from sklearn_crfsuite) (0.9.0)\n",
      "Requirement already satisfied: tqdm>=2.0 in /home/oddity/anaconda3/lib/python3.12/site-packages (from sklearn_crfsuite) (4.66.4)\n",
      "Requirement already satisfied: numpy>=1.19.5 in /home/oddity/anaconda3/lib/python3.12/site-packages (from scikit-learn>=0.24.0->sklearn_crfsuite) (1.26.4)\n",
      "Requirement already satisfied: scipy>=1.6.0 in /home/oddity/anaconda3/lib/python3.12/site-packages (from scikit-learn>=0.24.0->sklearn_crfsuite) (1.13.1)\n",
      "Requirement already satisfied: joblib>=1.2.0 in /home/oddity/anaconda3/lib/python3.12/site-packages (from scikit-learn>=0.24.0->sklearn_crfsuite) (1.4.2)\n",
      "Requirement already satisfied: threadpoolctl>=2.0.0 in /home/oddity/anaconda3/lib/python3.12/site-packages (from scikit-learn>=0.24.0->sklearn_crfsuite) (2.2.0)\n",
      "\n",
      "\u001b[1m[\u001b[0m\u001b[34;49mnotice\u001b[0m\u001b[1;39;49m]\u001b[0m\u001b[39;49m A new release of pip is available: \u001b[0m\u001b[31;49m24.2\u001b[0m\u001b[39;49m -> \u001b[0m\u001b[32;49m24.3.1\u001b[0m\n",
      "\u001b[1m[\u001b[0m\u001b[34;49mnotice\u001b[0m\u001b[1;39;49m]\u001b[0m\u001b[39;49m To update, run: \u001b[0m\u001b[32;49mpip install --upgrade pip\u001b[0m\n",
      "Requirement already satisfied: nltk in /home/oddity/anaconda3/lib/python3.12/site-packages (3.8.1)\n",
      "Requirement already satisfied: click in /home/oddity/anaconda3/lib/python3.12/site-packages (from nltk) (8.1.7)\n",
      "Requirement already satisfied: joblib in /home/oddity/anaconda3/lib/python3.12/site-packages (from nltk) (1.4.2)\n",
      "Requirement already satisfied: regex>=2021.8.3 in /home/oddity/anaconda3/lib/python3.12/site-packages (from nltk) (2023.10.3)\n",
      "Requirement already satisfied: tqdm in /home/oddity/anaconda3/lib/python3.12/site-packages (from nltk) (4.66.4)\n",
      "\n",
      "\u001b[1m[\u001b[0m\u001b[34;49mnotice\u001b[0m\u001b[1;39;49m]\u001b[0m\u001b[39;49m A new release of pip is available: \u001b[0m\u001b[31;49m24.2\u001b[0m\u001b[39;49m -> \u001b[0m\u001b[32;49m24.3.1\u001b[0m\n",
      "\u001b[1m[\u001b[0m\u001b[34;49mnotice\u001b[0m\u001b[1;39;49m]\u001b[0m\u001b[39;49m To update, run: \u001b[0m\u001b[32;49mpip install --upgrade pip\u001b[0m\n",
      "Requirement already satisfied: joblib in /home/oddity/anaconda3/lib/python3.12/site-packages (1.4.2)\n",
      "\n",
      "\u001b[1m[\u001b[0m\u001b[34;49mnotice\u001b[0m\u001b[1;39;49m]\u001b[0m\u001b[39;49m A new release of pip is available: \u001b[0m\u001b[31;49m24.2\u001b[0m\u001b[39;49m -> \u001b[0m\u001b[32;49m24.3.1\u001b[0m\n",
      "\u001b[1m[\u001b[0m\u001b[34;49mnotice\u001b[0m\u001b[1;39;49m]\u001b[0m\u001b[39;49m To update, run: \u001b[0m\u001b[32;49mpip install --upgrade pip\u001b[0m\n"
     ]
    }
   ],
   "source": [
    "! pip install sklearn_crfsuite\n",
    "! pip install nltk\n",
    "! pip install joblib"
   ]
  },
  {
   "cell_type": "code",
   "execution_count": 16,
   "metadata": {},
   "outputs": [],
   "source": [
    "import nltk\n",
    "from nltk.corpus import brown"
   ]
  },
  {
   "cell_type": "code",
   "execution_count": 54,
   "metadata": {},
   "outputs": [],
   "source": [
    "import numpy as np\n",
    "import matplotlib.pyplot as plt"
   ]
  },
  {
   "cell_type": "code",
   "execution_count": 12,
   "metadata": {
    "id": "eY3WWBHiJGfE"
   },
   "outputs": [],
   "source": [
    "from datasets import load_dataset\n",
    "\n",
    "dataset = load_dataset(\"conll2003\")"
   ]
  },
  {
   "cell_type": "code",
   "execution_count": 13,
   "metadata": {},
   "outputs": [],
   "source": [
    "import sklearn\n",
    "from sklearn_crfsuite import CRF, metrics\n",
    "\n",
    "import joblib\n",
    "from sklearn.model_selection import train_test_split, KFold\n",
    "from sklearn.metrics import accuracy_score"
   ]
  },
  {
   "cell_type": "code",
   "execution_count": 17,
   "metadata": {},
   "outputs": [
    {
     "name": "stderr",
     "output_type": "stream",
     "text": [
      "[nltk_data] Downloading package brown to /home/oddity/nltk_data...\n",
      "[nltk_data]   Package brown is already up-to-date!\n",
      "[nltk_data] Downloading package universal_tagset to\n",
      "[nltk_data]     /home/oddity/nltk_data...\n",
      "[nltk_data]   Package universal_tagset is already up-to-date!\n"
     ]
    },
    {
     "data": {
      "text/plain": [
       "True"
      ]
     },
     "execution_count": 17,
     "metadata": {},
     "output_type": "execute_result"
    }
   ],
   "source": [
    "nltk.download('brown')\n",
    "nltk.download('universal_tagset')"
   ]
  },
  {
   "cell_type": "code",
   "execution_count": 18,
   "metadata": {
    "id": "WwMqJ1_g217T"
   },
   "outputs": [],
   "source": [
    "tagged_sentences = brown.tagged_sents(tagset='universal')"
   ]
  },
  {
   "cell_type": "code",
   "execution_count": 19,
   "metadata": {},
   "outputs": [
    {
     "data": {
      "text/plain": [
       "[('The', 'DET'),\n",
       " ('Fulton', 'NOUN'),\n",
       " ('County', 'NOUN'),\n",
       " ('Grand', 'ADJ'),\n",
       " ('Jury', 'NOUN'),\n",
       " ('said', 'VERB'),\n",
       " ('Friday', 'NOUN'),\n",
       " ('an', 'DET'),\n",
       " ('investigation', 'NOUN'),\n",
       " ('of', 'ADP'),\n",
       " (\"Atlanta's\", 'NOUN'),\n",
       " ('recent', 'ADJ'),\n",
       " ('primary', 'NOUN'),\n",
       " ('election', 'NOUN'),\n",
       " ('produced', 'VERB'),\n",
       " ('``', '.'),\n",
       " ('no', 'DET'),\n",
       " ('evidence', 'NOUN'),\n",
       " (\"''\", '.'),\n",
       " ('that', 'ADP'),\n",
       " ('any', 'DET'),\n",
       " ('irregularities', 'NOUN'),\n",
       " ('took', 'VERB'),\n",
       " ('place', 'NOUN'),\n",
       " ('.', '.')]"
      ]
     },
     "execution_count": 19,
     "metadata": {},
     "output_type": "execute_result"
    }
   ],
   "source": [
    "tagged_sentences[0]"
   ]
  },
  {
   "cell_type": "code",
   "execution_count": 58,
   "metadata": {},
   "outputs": [],
   "source": [
    "train_data = dataset['train']\n",
    "validation_data = dataset['validation']\n",
    "test_data = dataset['test']\n",
    "\n",
    "sents = []\n",
    "\n",
    "for data in train_data:\n",
    "  temp = []\n",
    "  for idx, word in enumerate(data['tokens']):\n",
    "    temp.append((word, f'{data['pos_tags'][idx]}'))\n",
    "  sents.append(temp)   \n",
    "\n",
    "for data in validation_data:\n",
    "  temp = []\n",
    "  for idx, word in enumerate(data['tokens']):\n",
    "    temp.append((word, f'{data['pos_tags'][idx]}'))\n",
    "  sents.append(temp)   \n",
    "\n",
    "for data in test_data:\n",
    "  temp = []\n",
    "  for idx, word in enumerate(data['tokens']):\n",
    "    temp.append((word, f'{data['pos_tags'][idx]}'))\n",
    "  sents.append(temp)   "
   ]
  },
  {
   "cell_type": "code",
   "execution_count": 59,
   "metadata": {},
   "outputs": [
    {
     "data": {
      "text/plain": [
       "[('Australian', '16'),\n",
       " ('coach', '21'),\n",
       " ('Geoff', '22'),\n",
       " ('Marsh', '22'),\n",
       " ('said', '38'),\n",
       " ('he', '28'),\n",
       " ('was', '38'),\n",
       " ('impressed', '40'),\n",
       " ('with', '15'),\n",
       " ('the', '12'),\n",
       " ('competitiveness', '21'),\n",
       " ('of', '15'),\n",
       " ('the', '12'),\n",
       " ('opposition', '21'),\n",
       " ('.', '7')]"
      ]
     },
     "execution_count": 59,
     "metadata": {},
     "output_type": "execute_result"
    }
   ],
   "source": [
    "sents[1000]"
   ]
  },
  {
   "cell_type": "code",
   "execution_count": 60,
   "metadata": {},
   "outputs": [
    {
     "data": {
      "text/plain": [
       "{'id': '0',\n",
       " 'tokens': ['EU',\n",
       "  'rejects',\n",
       "  'German',\n",
       "  'call',\n",
       "  'to',\n",
       "  'boycott',\n",
       "  'British',\n",
       "  'lamb',\n",
       "  '.'],\n",
       " 'pos_tags': [22, 42, 16, 21, 35, 37, 16, 21, 7],\n",
       " 'chunk_tags': [11, 21, 11, 12, 21, 22, 11, 12, 0],\n",
       " 'ner_tags': [3, 0, 7, 0, 0, 0, 7, 0, 0]}"
      ]
     },
     "execution_count": 60,
     "metadata": {},
     "output_type": "execute_result"
    }
   ],
   "source": [
    "train_data[0]"
   ]
  },
  {
   "cell_type": "code",
   "execution_count": 61,
   "metadata": {},
   "outputs": [
    {
     "data": {
      "text/plain": [
       "[('EU', '22'),\n",
       " ('rejects', '42'),\n",
       " ('German', '16'),\n",
       " ('call', '21'),\n",
       " ('to', '35'),\n",
       " ('boycott', '37'),\n",
       " ('British', '16'),\n",
       " ('lamb', '21'),\n",
       " ('.', '7')]"
      ]
     },
     "execution_count": 61,
     "metadata": {},
     "output_type": "execute_result"
    }
   ],
   "source": [
    "tagged_sentences = sents\n",
    "tagged_sentences[0]"
   ]
  },
  {
   "cell_type": "code",
   "execution_count": 62,
   "metadata": {},
   "outputs": [],
   "source": [
    "# Extract words and tags\n",
    "tagged_words = [(word.lower(), tag) for sentence in tagged_sentences for (word, tag) in sentence]\n",
    "words, tags = zip(*tagged_words)"
   ]
  },
  {
   "cell_type": "code",
   "execution_count": 63,
   "metadata": {},
   "outputs": [
    {
     "name": "stdout",
     "output_type": "stream",
     "text": [
      "No. of unique tags in the Brown corpus:  45\n"
     ]
    }
   ],
   "source": [
    "unique_tags = set(tags) # Get all the distinct tags present in the dataset\n",
    "print(\"No. of unique tags in the Brown corpus: \", len(unique_tags))"
   ]
  },
  {
   "cell_type": "code",
   "execution_count": 64,
   "metadata": {},
   "outputs": [
    {
     "data": {
      "text/plain": [
       "{'0',\n",
       " '1',\n",
       " '10',\n",
       " '11',\n",
       " '12',\n",
       " '13',\n",
       " '14',\n",
       " '15',\n",
       " '16',\n",
       " '17',\n",
       " '18',\n",
       " '19',\n",
       " '20',\n",
       " '21',\n",
       " '22',\n",
       " '23',\n",
       " '24',\n",
       " '25',\n",
       " '26',\n",
       " '27',\n",
       " '28',\n",
       " '29',\n",
       " '3',\n",
       " '30',\n",
       " '31',\n",
       " '32',\n",
       " '33',\n",
       " '34',\n",
       " '35',\n",
       " '36',\n",
       " '37',\n",
       " '38',\n",
       " '39',\n",
       " '4',\n",
       " '40',\n",
       " '41',\n",
       " '42',\n",
       " '43',\n",
       " '44',\n",
       " '45',\n",
       " '46',\n",
       " '5',\n",
       " '6',\n",
       " '7',\n",
       " '8'}"
      ]
     },
     "execution_count": 64,
     "metadata": {},
     "output_type": "execute_result"
    }
   ],
   "source": [
    "# Display all the unique tags\n",
    "unique_tags\n"
   ]
  },
  {
   "cell_type": "code",
   "execution_count": 65,
   "metadata": {},
   "outputs": [
    {
     "data": {
      "text/plain": [
       "(301418, 301418)"
      ]
     },
     "execution_count": 65,
     "metadata": {},
     "output_type": "execute_result"
    }
   ],
   "source": [
    "len(words), len(tags) # Get the length of the words to be tagged in the Brown corpus dataset"
   ]
  },
  {
   "cell_type": "code",
   "execution_count": 66,
   "metadata": {
    "id": "vat2IL5cv75o"
   },
   "outputs": [],
   "source": [
    "# Convert tagged sentences into a list of (word, tag) pairs\n",
    "def get_sentences_with_features(tagged_sentences):\n",
    "    def word2features(sent, i):\n",
    "        word = sent[i][0]\n",
    "        features = {\n",
    "            'bias': 1.0,\n",
    "            'word.lower()': word.lower(),\n",
    "            'word[-3:]': word[-3:],\n",
    "            'word[-2:]': word[-2:],\n",
    "            'word.isupper()': word.isupper(),\n",
    "            'word.istitle()': word.istitle(),\n",
    "            'word.isdigit()': word.isdigit(),\n",
    "        }\n",
    "        if i > 0:\n",
    "            word1 = sent[i - 1][0]\n",
    "            features.update({\n",
    "                '-1:word.lower()': word1.lower(),\n",
    "                '-1:word.istitle()': word1.istitle(),\n",
    "                '-1:word.isupper()': word1.isupper(),\n",
    "            })\n",
    "        else:\n",
    "            features['BOS'] = True  # Beginning of Sentence\n",
    "\n",
    "        if i < len(sent) - 1:\n",
    "            word1 = sent[i + 1][0]\n",
    "            features.update({\n",
    "                '+1:word.lower()': word1.lower(),\n",
    "                '+1:word.istitle()': word1.istitle(),\n",
    "                '+1:word.isupper()': word1.isupper(),\n",
    "            })\n",
    "        else:\n",
    "            features['EOS'] = True  # End of Sentence\n",
    "\n",
    "        return features\n",
    "\n",
    "    return [\n",
    "        ([word2features(sent, i) for i in range(len(sent))], [tag for word, tag in sent])\n",
    "        for sent in tagged_sentences\n",
    "    ]"
   ]
  },
  {
   "cell_type": "code",
   "execution_count": 67,
   "metadata": {
    "id": "WXfIVDSf76J8"
   },
   "outputs": [],
   "source": [
    "# Initialize the CRF model\n",
    "pos_tagger = CRF(algorithm='lbfgs', c1=0.1, c2=0.1, max_iterations=100, all_possible_transitions=True)"
   ]
  },
  {
   "cell_type": "code",
   "execution_count": 68,
   "metadata": {
    "colab": {
     "base_uri": "https://localhost:8080/"
    },
    "id": "Ek9jQmVu3bol",
    "outputId": "0d6747d4-b1ec-4244-cb5e-22d4f6f8b924"
   },
   "outputs": [
    {
     "name": "stdout",
     "output_type": "stream",
     "text": [
      "Fold 1 Accuracy: 0.9558\n",
      "['22', '27', '21', '35', '12', '22', '22', '27', '16', '21', '22', '22', '38', '15', '22', '24', '20', '37', '21', '15', '24', '16', '15', '22', '15', '12', '16', '21', '38', '21', '7']\n",
      "['22', '27', '21', '35', '12', '22', '22', '27', '16', '21', '22', '22', '38', '15', '22', '24', '20', '37', '21', '15', '24', '16', '15', '22', '15', '12', '16', '21', '38', '17', '7']\n",
      "Fold 2 Accuracy: 0.9551\n",
      "['22', '42', '16', '21', '35', '37', '16', '21', '7']\n",
      "['22', '42', '16', '21', '35', '37', '16', '21', '7']\n",
      "Fold 3 Accuracy: 0.9572\n",
      "['0', '44', '28', '41', '35', '37', '30', '16', '15', '42', '46', '16', '24', '41', '39', '35', '37', '22', '27', '21', '6', '0', '22', '22', '22', '27', '21', '4', '22', '5', '21', '22', '22', '22', '38', '15', '22', '21', '7']\n",
      "['0', '44', '28', '41', '35', '37', '30', '16', '15', '42', '46', '16', '24', '41', '39', '35', '37', '22', '27', '21', '6', '0', '22', '22', '22', '27', '22', '4', '22', '5', '21', '22', '22', '22', '38', '15', '22', '21', '7']\n",
      "Fold 4 Accuracy: 0.9577\n",
      "['22', '22']\n",
      "['22', '22']\n",
      "Fold 5 Accuracy: 0.9578\n",
      "['22', '41', '30', '40', '40', '35', '21', '21', '6', '12', '16', '21', '16', '35', '22', '43', '42', '40', '35', '37', '40', '40', '35', '24', '15', '21', '39', '21', '21', '7']\n",
      "['22', '41', '30', '40', '40', '35', '21', '21', '6', '12', '16', '21', '16', '35', '22', '43', '42', '40', '35', '37', '40', '40', '35', '24', '15', '21', '39', '21', '21', '7']\n"
     ]
    }
   ],
   "source": [
    "\n",
    "kfold = KFold(n_splits=5, shuffle=True, random_state=1)\n",
    "sentences_with_features = get_sentences_with_features(tagged_sentences)\n",
    "sentences_with_features = np.array(sentences_with_features, dtype=object)\n",
    "y_true_all, y_pred_all = [], []\n",
    "\n",
    "pos_tagger = CRF(algorithm='lbfgs', c1=0.1, c2=0.1, max_iterations=100, all_possible_transitions=True) # Initialize the CRF model\n",
    "\n",
    "for fold, (train_idx, test_idx) in enumerate(kfold.split(sentences_with_features)):\n",
    "    train_sentences_with_features = sentences_with_features[train_idx]\n",
    "    test_sentences_with_features = sentences_with_features[test_idx]\n",
    "\n",
    "    # Train CRF\n",
    "    X_train, X_test = [sent[0] for sent in train_sentences_with_features], [sent[0] for sent in test_sentences_with_features]\n",
    "    y_train, y_test = [sent[1] for sent in train_sentences_with_features], [sent[1] for sent in test_sentences_with_features]\n",
    "\n",
    "    pos_tagger.fit(X_train, y_train)\n",
    "\n",
    "    y_pred = pos_tagger.predict(X_test)\n",
    "    y_true = y_test  # Use the true labels from the test set\n",
    "\n",
    "\n",
    "\n",
    "    # Update overall true and predicted lists\n",
    "  \n",
    "\n",
    "    y_true = np.array(y_true, dtype=object)\n",
    "    y_pred = np.array(y_pred, dtype=object)\n",
    "\n",
    "    # Calculate accuracy for the current fold\n",
    "    '''\n",
    "    accuracy = accuracy_score(y_true, y_pred)\n",
    "    '''\n",
    "    y_true_flat = []\n",
    "    y_pred_flat = []\n",
    "\n",
    "    for i in range(len(y_true)):\n",
    "        for j in range(len(y_true[i])):\n",
    "            y_true_flat.append(y_true[i][j])\n",
    "            y_pred_flat.append(y_pred[i][j])\n",
    "            y_true_all.append(y_true[i][j])\n",
    "            y_pred_all.append(y_pred[i][j])\n",
    "\n",
    "    accuracy = sklearn.metrics.accuracy_score(y_true_flat, y_pred_flat)\n",
    "    print(f'Fold {fold + 1} Accuracy: {accuracy:.4f}')\n",
    "\n",
    "    print(y_pred[0])\n",
    "    print(y_true[0])"
   ]
  },
  {
   "cell_type": "code",
   "execution_count": 69,
   "metadata": {
    "colab": {
     "base_uri": "https://localhost:8080/"
    },
    "id": "IsJq06roJJtu",
    "outputId": "70990abf-aa6a-4882-b7dd-820ad4074d72"
   },
   "outputs": [
    {
     "data": {
      "text/plain": [
       "['crf_pos_tagger.joblib']"
      ]
     },
     "execution_count": 69,
     "metadata": {},
     "output_type": "execute_result"
    }
   ],
   "source": [
    "joblib.dump(pos_tagger, 'crf_pos_tagger.joblib')"
   ]
  },
  {
   "cell_type": "markdown",
   "metadata": {},
   "source": [
    "### Confusion Matrix and per POS tag accuracy"
   ]
  },
  {
   "cell_type": "code",
   "execution_count": 14,
   "metadata": {},
   "outputs": [],
   "source": [
    "from sklearn.metrics import confusion_matrix, accuracy_score, classification_report\n",
    "import seaborn as sns\n",
    "from sklearn.metrics import confusion_matrix, ConfusionMatrixDisplay"
   ]
  },
  {
   "cell_type": "code",
   "execution_count": 15,
   "metadata": {},
   "outputs": [
    {
     "data": {
      "image/png": "[encoded data removed]",
      "text/plain": [
       "<Figure size 1000x1000 with 2 Axes>"
      ]
     },
     "metadata": {},
     "output_type": "display_data"
    }
   ],
   "source": [
    "# Plot the confusion matrix\n",
    "\n",
    "cm = confusion_matrix(y_true_all, y_pred_all, labels=list(unique_tags))\n",
    "disp = ConfusionMatrixDisplay(confusion_matrix=cm, display_labels=list(unique_tags))\n",
    "fig, ax = plt.subplots(figsize=(10,10))\n",
    "disp.plot(ax=ax)\n",
    "#disp.plot()\n",
    "plt.title('Confusion matrix for HMM prediction on entire dataset')\n",
    "plt.show()\n"
   ]
  },
  {
   "cell_type": "code",
   "execution_count": null,
   "metadata": {},
   "outputs": [],
   "source": []
  }
 ],
 "metadata": {
  "colab": {
   "provenance": []
  },
  "kernelspec": {
   "display_name": "base",
   "language": "python",
   "name": "python3"
  },
  "language_info": {
   "codemirror_mode": {
    "name": "ipython",
    "version": 3
   },
   "file_extension": ".py",
   "mimetype": "text/x-python",
   "name": "python",
   "nbconvert_exporter": "python",
   "pygments_lexer": "ipython3",
   "version": "3.12.4"
  }
 },
 "nbformat": 4,
 "nbformat_minor": 4
}
